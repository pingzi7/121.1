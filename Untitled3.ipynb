{
 "cells": [
  {
   "cell_type": "code",
   "execution_count": 1,
   "id": "e2f2ee71-08aa-4d08-8895-b5e6aa9ccaa9",
   "metadata": {},
   "outputs": [],
   "source": [
    "import os\n",
    "import base64"
   ]
  },
  {
   "cell_type": "code",
   "execution_count": 2,
   "id": "a9328774-04ec-4e31-83cc-1b5af82ca91f",
   "metadata": {},
   "outputs": [
    {
     "name": "stdout",
     "output_type": "stream",
     "text": [
      "Requirement already satisfied: zhipuai in c:\\programdata\\anaconda3\\lib\\site-packages (2.1.5.20230904)\n",
      "Requirement already satisfied: pydantic<3.0,>=1.9.0 in c:\\programdata\\anaconda3\\lib\\site-packages (from zhipuai) (2.9.2)\n",
      "Requirement already satisfied: cachetools>=4.2.2 in c:\\programdata\\anaconda3\\lib\\site-packages (from zhipuai) (5.5.0)\n",
      "Requirement already satisfied: pyjwt<2.9.0,>=2.8.0 in c:\\programdata\\anaconda3\\lib\\site-packages (from zhipuai) (2.8.0)\n",
      "Requirement already satisfied: pydantic-core>=2.14.6 in c:\\programdata\\anaconda3\\lib\\site-packages (from zhipuai) (2.23.4)\n",
      "Requirement already satisfied: httpx>=0.23.0 in c:\\programdata\\anaconda3\\lib\\site-packages (from zhipuai) (0.27.2)\n",
      "Requirement already satisfied: httpcore==1.* in c:\\programdata\\anaconda3\\lib\\site-packages (from httpx>=0.23.0->zhipuai) (1.0.7)\n",
      "Requirement already satisfied: anyio in c:\\programdata\\anaconda3\\lib\\site-packages (from httpx>=0.23.0->zhipuai) (3.5.0)\n",
      "Requirement already satisfied: idna in c:\\programdata\\anaconda3\\lib\\site-packages (from httpx>=0.23.0->zhipuai) (3.3)\n",
      "Requirement already satisfied: sniffio in c:\\programdata\\anaconda3\\lib\\site-packages (from httpx>=0.23.0->zhipuai) (1.2.0)\n",
      "Requirement already satisfied: certifi in c:\\programdata\\anaconda3\\lib\\site-packages (from httpx>=0.23.0->zhipuai) (2022.9.14)\n",
      "Requirement already satisfied: h11<0.15,>=0.13 in c:\\programdata\\anaconda3\\lib\\site-packages (from httpcore==1.*->httpx>=0.23.0->zhipuai) (0.14.0)\n",
      "Requirement already satisfied: annotated-types>=0.6.0 in c:\\programdata\\anaconda3\\lib\\site-packages (from pydantic<3.0,>=1.9.0->zhipuai) (0.7.0)\n",
      "Requirement already satisfied: typing-extensions>=4.6.1 in c:\\programdata\\anaconda3\\lib\\site-packages (from pydantic<3.0,>=1.9.0->zhipuai) (4.12.2)\n",
      "Note: you may need to restart the kernel to use updated packages.\n"
     ]
    }
   ],
   "source": [
    "pip install zhipuai"
   ]
  },
  {
   "cell_type": "code",
   "execution_count": 3,
   "id": "ee630980-8960-4e6e-ad35-6f0438bba917",
   "metadata": {},
   "outputs": [],
   "source": [
    "from zhipuai import ZhipuAI\n",
    "os.environ[\"ZHIPUAI_API_KEY\"] = \"fa61a5434f4d4f7d7c4ea53242195979.dfrxoPlS2YZScSzt\"\n",
    "client = ZhipuAI()"
   ]
  },
  {
   "cell_type": "code",
   "execution_count": 6,
   "id": "94467fb1-5004-4a4b-bb7a-fae03bff8083",
   "metadata": {},
   "outputs": [],
   "source": [
    "video_path = \"C:\\\\Users\\\\Administrator\\\\Downloads\\\\4d81e8a7-b6c5-5658-b3d2-95656903476d_0.mp4\"\n",
    "with open(video_path, 'rb') as video_file:\n",
    "    video_base = base64.b64encode(video_file.read()).decode('utf-8')"
   ]
  },
  {
   "cell_type": "code",
   "execution_count": 7,
   "id": "44e25048-b356-4d40-90ce-292726dd99d9",
   "metadata": {},
   "outputs": [
    {
     "name": "stdout",
     "output_type": "stream",
     "text": [
      "CompletionMessage(content='画面中一只兔子坐在一辆粉色的车里，面对镜头，双手握着方向盘。它先向画面右侧转动方向盘，然后又向画面左侧转动方向盘。背景是模糊的草地和天空。', role='assistant', tool_calls=None)\n"
     ]
    }
   ],
   "source": [
    "response = client.chat.completions.create(\n",
    "model=\"glm-4v-plus\",\n",
    "temperature=0.0,\n",
    "top_p=0,\n",
    "\n",
    "messages=[{\n",
    "\"role\":\"user\",\n",
    "\"content\":[{\n",
    "\"type\":\"video_url\",\n",
    "\"video_url\":{\"url\":video_base}\n",
    "},{\n",
    "\"type\":\"text\",\n",
    "\"text\":\"视频内容是什么\"\n",
    "}]\n",
    "}]\n",
    ")\n",
    "print(response.choices[0].message)"
   ]
  },
  {
   "cell_type": "code",
   "execution_count": null,
   "id": "a4413ab6-d429-4b82-b06c-c43d3de5f196",
   "metadata": {},
   "outputs": [],
   "source": []
  }
 ],
 "metadata": {
  "kernelspec": {
   "display_name": "Python 3 (ipykernel)",
   "language": "python",
   "name": "python3"
  },
  "language_info": {
   "codemirror_mode": {
    "name": "ipython",
    "version": 3
   },
   "file_extension": ".py",
   "mimetype": "text/x-python",
   "name": "python",
   "nbconvert_exporter": "python",
   "pygments_lexer": "ipython3",
   "version": "3.9.13"
  }
 },
 "nbformat": 4,
 "nbformat_minor": 5
}
