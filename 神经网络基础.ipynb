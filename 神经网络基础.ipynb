{
 "cells": [
  {
   "cell_type": "code",
   "execution_count": 1,
   "id": "53b7620c-5e9f-474b-8364-e0dc39d1cbab",
   "metadata": {},
   "outputs": [],
   "source": [
    "import numpy as np\n",
    "import matplotlib.pyplot as plt\n",
    "import torch\n",
    "import torch.nn as nn\n",
    "import torch.optim as optim\n",
    "\n",
    "# 构造一元二次曲线形状的数据\n",
    "np.random.seed(0)\n",
    "x = np.linspace(-5, 5, 100)\n",
    "y = 2 * x**2 + 3 * x + 1 + np.random.normal(0, 10, 100) # 添加噪声\n",
    "\n",
    "# 转换为PyTorch张量\n",
    "x_tensor = torch.tensor(x, dtype=torch.float32).view(-1, 1)\n",
    "y_tensor = torch.tensor(y, dtype=torch.float32).view(-1, 1)"
   ]
  },
  {
   "cell_type": "code",
   "execution_count": 3,
   "id": "ca36a3bb-3a94-4f2d-9265-eaa168287671",
   "metadata": {},
   "outputs": [
    {
     "ename": "IndentationError",
     "evalue": "expected an indented block (3996276786.py, line 3)",
     "output_type": "error",
     "traceback": [
      "\u001b[1;36m  File \u001b[1;32m\"C:\\Users\\Administrator\\AppData\\Local\\Temp\\ipykernel_11756\\3996276786.py\"\u001b[1;36m, line \u001b[1;32m3\u001b[0m\n\u001b[1;33m    def __init__(self):\u001b[0m\n\u001b[1;37m    ^\u001b[0m\n\u001b[1;31mIndentationError\u001b[0m\u001b[1;31m:\u001b[0m expected an indented block\n"
     ]
    }
   ],
   "source": [
    "# 定义二次回归模型\n",
    "class QuadraticRegressionModel(nn.Module):\n",
    "    def __init__(self):\n",
    "        super(QuadraticRegressionModel, self).__init__()\n",
    "        self.linear = nn.Linear(2, 1) # 输入特征数为2，因为x和x^2都需要作为输入\n",
    "\n",
    "    def forward(self, x):\n",
    "        x_squared = x**2 # 计算x的平方\n",
    "        x_with_squared = torch.cat((x, x_squared), 1) # 将x和x^2合并为一个输入\n",
    "return self.linear(x_with_squared)\n",
    "\n",
    "# 实例化模型\n",
    "model = QuadraticRegressionModel()\n",
    "\n",
    "# 定义损失函数（均方误差）\n",
    "criterion = nn.MSELoss()\n",
    "\n",
    "# 选择优化器（梯度下降）\n",
    "optimizer = optim.SGD(model.parameters(), lr=0.001)\n",
    "\n",
    "# 训练模型\n",
    "num_epochs = 1000\n",
    "for epoch in range(num_epochs):\n",
    "model.train()\n",
    "predictions = model(x_tensor)\n",
    "loss = criterion(predictions, y_tensor)\n",
    "\n",
    "optimizer.zero_grad()\n",
    "loss.backward()\n",
    "optimizer.step()\n",
    "\n",
    "if (epoch+1) % 100 == 0:\n",
    "print(f'Epoch [{epoch+1}/{num_epochs}], Loss: {loss.item():.4f}')\n",
    "\n",
    "# 测试模型\n",
    "with torch.no_grad():\n",
    "predicted = model(x_tensor)\n",
    "\n",
    "# 绘制原始数据点和拟合的一元二次曲线\n",
    "plt.scatter(x, y, color='blue') # 绘制原始数据点\n",
    "plt.plot(x, predicted.numpy(), color='red') # 绘制拟合的一元二次曲线\n",
    "plt.xlabel('X')\n",
    "plt.ylabel('Y')\n",
    "plt.title('Quadratic Regression Model')\n",
    "plt.show()"
   ]
  },
  {
   "cell_type": "code",
   "execution_count": null,
   "id": "8a368a0a-7307-4e6a-872c-59320acae391",
   "metadata": {},
   "outputs": [],
   "source": []
  }
 ],
 "metadata": {
  "kernelspec": {
   "display_name": "Python 3 (ipykernel)",
   "language": "python",
   "name": "python3"
  },
  "language_info": {
   "codemirror_mode": {
    "name": "ipython",
    "version": 3
   },
   "file_extension": ".py",
   "mimetype": "text/x-python",
   "name": "python",
   "nbconvert_exporter": "python",
   "pygments_lexer": "ipython3",
   "version": "3.9.13"
  }
 },
 "nbformat": 4,
 "nbformat_minor": 5
}
